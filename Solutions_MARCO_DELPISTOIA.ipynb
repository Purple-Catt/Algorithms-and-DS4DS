{
 "cells": [
  {
   "cell_type": "markdown",
   "metadata": {},
   "source": [
    "# Lecture 1\n",
    "\n",
    "---\n",
    "### Exercise: Selection Sort\n",
    "Write the function ```SelectionSort(coll)``` that returns a sorted list with the elements in *coll*. \n",
    "You have to implements Selection Sort algorithm."
   ]
  },
  {
   "cell_type": "code",
   "outputs": [],
   "source": [
    "# Run this cell before all the others to import the necessary libraries\n",
    "import time\n",
    "from functools import cmp_to_key\n",
    "from numpy.random import randint\n",
    "from math import floor, ceil\n",
    "from numpy import inf\n",
    "import heapq"
   ],
   "metadata": {
    "collapsed": false,
    "ExecuteTime": {
     "end_time": "2024-03-20T10:15:24.019037Z",
     "start_time": "2024-03-20T10:15:23.998819Z"
    }
   },
   "execution_count": 128
  },
  {
   "cell_type": "code",
   "outputs": [],
   "source": [
    "def selection_sort(coll: list, display_time: bool = False):\n",
    "    \"\"\"Run the selection sort algorithm over a given list.\n",
    "    Parameters:\n",
    "        coll: list to be sorted\n",
    "        display_time: Optional, default True. If True the execution time is printed out.\n",
    "    Returns:\n",
    "        Sorted list.\"\"\"\n",
    "    if display_time:\n",
    "        start = time.time()\n",
    "\n",
    "    for i in range(len(coll)):\n",
    "        min_pos = i\n",
    "\n",
    "        for j in range(i+1, len(coll)):\n",
    "            if coll[j] < coll[min_pos]:\n",
    "                min_pos = j\n",
    "\n",
    "        temp = coll[min_pos]\n",
    "        coll[min_pos] = coll[i]\n",
    "        coll[i] = temp\n",
    "\n",
    "    if display_time:\n",
    "        print(f\"Execution time: {time.time() - start}\")\n",
    "\n",
    "    return coll"
   ],
   "metadata": {
    "ExecuteTime": {
     "end_time": "2024-03-19T13:35:54.258100Z",
     "start_time": "2024-03-19T13:35:54.238451Z"
    }
   },
   "execution_count": 62
  },
  {
   "cell_type": "markdown",
   "metadata": {},
   "source": [
    "----\n",
    "### Exercise: Insertion Sort\n",
    "Write the function ```InsertionSort(coll)``` that returns a sorted list with the elements in *coll*. \n",
    "You have to implements Insertion Sort algorithm."
   ]
  },
  {
   "cell_type": "code",
   "execution_count": 63,
   "metadata": {
    "ExecuteTime": {
     "end_time": "2024-03-19T13:35:56.007086Z",
     "start_time": "2024-03-19T13:35:55.978812Z"
    }
   },
   "outputs": [],
   "source": [
    "def insertion_sort(coll: list, cmp=lambda val, k: val - k, display_time: bool = False):\n",
    "    \"\"\"Run the insertion sort algorithm over a given list.\n",
    "    Parameters:\n",
    "        coll: list to be sorted\n",
    "        cmp: function, default None. If given, it's used as a comparator into the algorithm\n",
    "        display_time: Optional, default True. If True the execution time is printed out.\n",
    "    Returns:\n",
    "        Sorted list.\"\"\"\n",
    "    if display_time:\n",
    "        start = time.time()\n",
    "\n",
    "    for j in range(1, len(coll)):\n",
    "        key = coll[j]\n",
    "        i = j - 1\n",
    "\n",
    "        \n",
    "\n",
    "        while i >= 0 and cmp(coll[i], key) > 0:\n",
    "            coll[i + 1] = coll[i]\n",
    "            i -= 1\n",
    "            \n",
    "        coll[i + 1] = key\n",
    "\n",
    "    if display_time:\n",
    "        print(f\"Execution time: {time.time() - start}\")\n",
    "\n",
    "    return coll"
   ]
  },
  {
   "cell_type": "markdown",
   "source": [
    "### Test correctness of sorting algorithms\n",
    "The following function is used to check the correctness of the previous algorithms, it can be used also with a comparator."
   ],
   "metadata": {
    "collapsed": false
   }
  },
  {
   "cell_type": "code",
   "outputs": [
    {
     "name": "stdout",
     "output_type": "stream",
     "text": [
      "Test passed!\n",
      "Test passed!\n"
     ]
    }
   ],
   "source": [
    "def test_sortedness(sorting_algo, cmp=None):\n",
    "    \"\"\"Test the correctness of the sorting algorithm comparing the obtained result with the builtin Python function\n",
    "    sorted.\n",
    "    Parameters:\n",
    "        sorting_algo: algorithm function to evaluate\n",
    "        cmp: Optional, default None. If given, this comparator will be used in both the algorithms.\n",
    "    Returns:\n",
    "        None if the algorithm works correctly, raise an error otherwise.\"\"\"\n",
    "    for _ in range(100):\n",
    "        l1 = [randint(0, 10000) for _ in range(randint(0, 100))]\n",
    "        \n",
    "        if cmp is not None:\n",
    "            l1_sorted = sorting_algo(l1, cmp=cmp)\n",
    "            l1_comp = sorted(l1, key=cmp_to_key(cmp))\n",
    "            \n",
    "        else:\n",
    "            l1_sorted = sorting_algo(l1)\n",
    "            l1_comp = sorted(l1)\n",
    "            \n",
    "        assert l1_sorted == l1_comp, \"FAIL!\"\n",
    "        \n",
    "    print(\"Test passed!\")\n",
    "    \n",
    "\n",
    "test_sortedness(sorting_algo=selection_sort)\n",
    "test_sortedness(sorting_algo=insertion_sort)"
   ],
   "metadata": {
    "collapsed": false,
    "ExecuteTime": {
     "end_time": "2024-03-19T13:35:58.210864Z",
     "start_time": "2024-03-19T13:35:58.087715Z"
    }
   },
   "execution_count": 64
  },
  {
   "cell_type": "markdown",
   "metadata": {},
   "source": [
    "----\n",
    "### Exercise: Strange orderings\n",
    "Given a list, write and test comparators to obtain the following orderings:\n",
    "- Even number precede odd ones. Even numbers are sorted in non-decreasing  order while odd ones are sorted in non-increasing order.\n",
    "- Strings are sorted in non-increasing order based on their lengths. Strings having the same length are sorted in non-increasing lexicographic order. "
   ]
  },
  {
   "cell_type": "code",
   "execution_count": 65,
   "metadata": {
    "ExecuteTime": {
     "end_time": "2024-03-19T13:36:00.316Z",
     "start_time": "2024-03-19T13:36:00.287371Z"
    }
   },
   "outputs": [
    {
     "name": "stdout",
     "output_type": "stream",
     "text": [
      "Integer comparator works!\n",
      "String comparator works!\n"
     ]
    }
   ],
   "source": [
    "def even_odd_comparator(a: int | float, b: int | float):\n",
    "    \"\"\"Simple comparator that follows this statement: <Even numbers precede odd ones. Even numbers are sorted in\n",
    "    non-decreasing order while odd ones are sorted in non-increasing order.>\"\"\"\n",
    "    if a % 2 == b % 2 == 0:\n",
    "        return a - b\n",
    "\n",
    "    elif a % 2 == b % 2 == 1:\n",
    "        return b - a\n",
    "\n",
    "    elif a % 2 == 0:\n",
    "        return -1\n",
    "\n",
    "    else:\n",
    "        return 1\n",
    "\n",
    "\n",
    "def str_len_comparator(a: str, b: str):\n",
    "    if len(a) > len(b):\n",
    "        return -1\n",
    "\n",
    "    elif len(a) < len(b):\n",
    "        return 1\n",
    "\n",
    "    elif a >= b:\n",
    "        return -1\n",
    "\n",
    "    else:\n",
    "        return 1\n",
    "\n",
    "\n",
    "# TESTING CORRECTNESS OF THE IMPLEMENTATION\n",
    "int_list = list(range(10))[::-1]\n",
    "str_list = [\"a\", \"b\", \"aba\", \"cad\", \"zzzz\", \"aaaa\"]\n",
    "\n",
    "assert sorted(int_list, key=cmp_to_key(even_odd_comparator)) == [0, 2, 4, 6, 8, 9, 7, 5, 3, 1]\n",
    "print(\"Integer comparator works!\")\n",
    "assert sorted(str_list, key=cmp_to_key(str_len_comparator)) == ['zzzz', 'aaaa', 'cad', 'aba', 'b', 'a']\n",
    "print(\"String comparator works!\")\n"
   ]
  },
  {
   "cell_type": "markdown",
   "metadata": {},
   "source": [
    "-----\n",
    "### Exercise: Insertion Sort with a comparator\n",
    "Write the function ```InsertionSort(coll, cmp)``` that returns a sorted list with the elements in *coll* using \n",
    "```cmp```as a comparator."
   ]
  },
  {
   "cell_type": "code",
   "outputs": [
    {
     "name": "stdout",
     "output_type": "stream",
     "text": [
      "Test passed!\n"
     ]
    }
   ],
   "source": [
    "insertion_sort(coll=list(), cmp=even_odd_comparator)\n",
    "\n",
    "test_sortedness(sorting_algo=insertion_sort, cmp=even_odd_comparator)"
   ],
   "metadata": {
    "collapsed": false,
    "ExecuteTime": {
     "end_time": "2024-03-19T13:36:02.810893Z",
     "start_time": "2024-03-19T13:36:02.709031Z"
    }
   },
   "execution_count": 66
  },
  {
   "cell_type": "markdown",
   "source": [
    "The previous code line is just a recall of the function InsertionSort implemented before, that's because it's constructed to behave as the builtin sorted() function; in other words, if no comparator is given, it computes a regular insertion sorting algorithm, while adding a comparator make it use it in the sorting process. Note that it doesn't need the function cmp_to_key to work, as the sorted() function does."
   ],
   "metadata": {
    "collapsed": false
   }
  },
  {
   "cell_type": "markdown",
   "metadata": {},
   "source": [
    "-----\n",
    "\n",
    "### Exercise: Intersection of two lists\n",
    "Write a function ```intersection_slow(l1, l2)``` which returns the intersection of the two lists l1 and l2.\n",
    "\n",
    "Use the trivial algorithms that runs in $\\Theta(|l1|\\times|l2|)$. "
   ]
  },
  {
   "cell_type": "code",
   "execution_count": 67,
   "metadata": {
    "ExecuteTime": {
     "end_time": "2024-03-19T13:36:06.985581Z",
     "start_time": "2024-03-19T13:36:06.974227Z"
    }
   },
   "outputs": [],
   "source": [
    "def intersection_slow(l1: list, l2: list):\n",
    "    intersection_list = list()\n",
    "    for item in l1:\n",
    "        if item in l2:\n",
    "            intersection_list.append(item)\n",
    "\n",
    "    return intersection_list"
   ]
  },
  {
   "cell_type": "markdown",
   "metadata": {},
   "source": [
    "----\n",
    "### Exercise: Faster intersection of two lists\n",
    "Write a function ```intersection(l1, l2)``` which returns the intersection of the two lists l1 and l2.\n",
    "\n",
    "Assume that both l1 and l2 are sorted!"
   ]
  },
  {
   "cell_type": "code",
   "execution_count": 68,
   "metadata": {
    "ExecuteTime": {
     "end_time": "2024-03-19T13:36:09.187025Z",
     "start_time": "2024-03-19T13:36:09.163374Z"
    }
   },
   "outputs": [],
   "source": [
    "def intersection(l1: list, l2: list):\n",
    "    intersection_list = list()\n",
    "    i = 0\n",
    "    j = 0\n",
    "    while i < len(l1) and j < len(l2):\n",
    "        if l1[i] < l2[j]:\n",
    "            i += 1\n",
    "\n",
    "        elif l2[j] < l1[i]:\n",
    "            j += 1\n",
    "\n",
    "        else:\n",
    "            intersection_list.append(l1[i])\n",
    "            i += 1\n",
    "            j += 1\n",
    "\n",
    "    return intersection_list"
   ]
  },
  {
   "cell_type": "markdown",
   "source": [
    "This function is a modified version of the Merge algorithm to find the intersection - and not the union - of two lists while preserving its efficiency."
   ],
   "metadata": {
    "collapsed": false
   }
  },
  {
   "cell_type": "markdown",
   "source": [
    "### Test intersection function\n",
    "The function below test the correctness of the intersection function just implemented."
   ],
   "metadata": {
    "collapsed": false
   }
  },
  {
   "cell_type": "code",
   "outputs": [
    {
     "name": "stdout",
     "output_type": "stream",
     "text": [
      "Test passed!\n",
      "Test passed!\n"
     ]
    }
   ],
   "source": [
    "def test_intersection(func):\n",
    "    \"\"\"Test the correctness of an intersection function.\n",
    "    Parameters:\n",
    "        func: function that computes the intersection given two lists in the form function(l1, l2) -> list.\n",
    "    Returns:\n",
    "        List containing the intersection between the two input lists.\"\"\"\n",
    "    l1 = sorted([3, 5, 1, 2])\n",
    "    l2 = sorted([1, 4, 6, 2])\n",
    "\n",
    "    assert set(func(l1, l2)) == {1, 2}, \"Intersection function doesn't work!\"\n",
    "    \n",
    "    print(\"Test passed!\")\n",
    "    \n",
    "test_intersection(intersection)\n",
    "test_intersection(intersection_slow)"
   ],
   "metadata": {
    "collapsed": false,
    "ExecuteTime": {
     "end_time": "2024-03-19T13:36:12.948549Z",
     "start_time": "2024-03-19T13:36:12.925457Z"
    }
   },
   "execution_count": 69
  },
  {
   "cell_type": "markdown",
   "metadata": {},
   "source": [
    "----\n",
    "### Exercise: You own search engine\n",
    "You are given a collection of texts, and you want to build your own search engine, people at Google are already very scared!\n",
    "\n",
    "Modern search engines are based on a data structure called *Inverted Index*. \n",
    "\n",
    "To each document of the collection is assigned an identifier, starting from 0.\n",
    "An inverted index stores a list, called *inverted list*, for each term of the collection.\n",
    "The list for a term *t* contains the identifiers of all the documents containing term *t*. The list is sorted.\n",
    "\n",
    "For example,\n",
    "\n",
    "`C = [\"dog cat elephant monkey\",  \"dog lion tiger\", \"fish dog dog cat cow\"]`\n",
    "\n",
    "The list of term *cat* is [0,2], the list of *elephant* is [0].\n",
    "\n",
    "Given two terms, an \"AND\" query reports all the documents containing both terms. For example, \n",
    "*query(\"cat\", \"dog\"), the result is [0, 2].\n",
    "\n",
    "Your goal is to implement a simple search engine. Do the following. \n",
    "\n",
    "- Given the collection, build a dictionary that maps each term to its inverted list. Observe that \n",
    "each document occurs at most once in each list. \n",
    "- Implement a function *query* which answers an AND query. "
   ]
  },
  {
   "cell_type": "code",
   "execution_count": 70,
   "metadata": {
    "ExecuteTime": {
     "end_time": "2024-03-19T13:36:15.230875Z",
     "start_time": "2024-03-19T13:36:15.197756Z"
    }
   },
   "outputs": [
    {
     "name": "stdout",
     "output_type": "stream",
     "text": [
      "Test passed!\n"
     ]
    }
   ],
   "source": [
    "class SearchEngine:\n",
    "    \"\"\"A base structure for a simple search engine. Starting from a list containing text documents, with space-separated\n",
    "         terms, an inverted index is created. The inverted index stores a list for each term of the collection that\n",
    "         contains the identifiers of all the documents containing that term, sorted.\n",
    "         Parameters:\n",
    "             collection: list containing text documents.\"\"\"\n",
    "    def __init__(self, collection: list):\n",
    "\n",
    "        self.collection = dict()\n",
    "        self.inverted_index = dict()\n",
    "\n",
    "        # Transform the given list in a dictionary\n",
    "        for key, value in enumerate(collection):\n",
    "            self.collection[key] = value.split()\n",
    "\n",
    "        for key in self.collection.keys():\n",
    "            for term in self.collection[key]:\n",
    "\n",
    "                # If it's not the first occurrence of the term, append the key in the existing list\n",
    "                if term in self.inverted_index.keys():\n",
    "                    # This 'if else' statement deals with multiple occurrence of the same term in a text\n",
    "                    if key in self.inverted_index[term]:\n",
    "                        pass\n",
    "\n",
    "                    else:\n",
    "                        self.inverted_index[term].append(key)\n",
    "                        self.inverted_index[term].sort()\n",
    "\n",
    "                # If it's the first occurrence of the term, the relative list is created\n",
    "                else:\n",
    "                    self.inverted_index[term] = [key]\n",
    "\n",
    "    def query(self, a: str, b: str):\n",
    "        \"\"\"AND query function between two terms that reports all the documents containing both of them.\n",
    "        Parameters:\n",
    "            a: first term\n",
    "            b: second term.\n",
    "        Returns:\n",
    "            A list that reports the indexes to the documents that contains the input terms.\"\"\"\n",
    "        inters = intersection(self.inverted_index[a], self.inverted_index[b])\n",
    "\n",
    "        return inters\n",
    "\n",
    "\n",
    "def test_search_engine(coll):\n",
    "    search_eng = SearchEngine(collection=coll)\n",
    "    true_inv_index = {'dog': [0, 2, 3], 'cat': [0, 1, 3], 'monkey': [1, 2], 'cow': [2], 'fish': [3]}\n",
    "\n",
    "    assert search_eng.inverted_index == true_inv_index, \"Wrong implementation!\"\n",
    "\n",
    "    assert search_eng.query(\"dog\", \"cat\") == [0, 3], \"Wrong query function!\"\n",
    "\n",
    "    print(\"Test passed!\")\n",
    "\n",
    "my_coll = [\"dog cat\", \"monkey cat\", \"dog cow monkey\", \"fish cat cat dog\"]\n",
    "test_search_engine(coll=my_coll)    "
   ]
  },
  {
   "cell_type": "markdown",
   "metadata": {},
   "source": [
    "----\n",
    "# Lecture 2\n",
    "---\n",
    "### Exercise: Binary Vector\n",
    "You are given a binary vector, i.e., each element is either 0 or 1. Implements an easy variant of partition to sort the vector.\n"
   ]
  },
  {
   "cell_type": "code",
   "execution_count": 99,
   "metadata": {
    "ExecuteTime": {
     "end_time": "2024-03-19T14:32:48.194731Z",
     "start_time": "2024-03-19T14:32:48.071121Z"
    }
   },
   "outputs": [
    {
     "name": "stdout",
     "output_type": "stream",
     "text": [
      "Test passed!\n"
     ]
    }
   ],
   "source": [
    "def binary_vector(a: list):\n",
    "    \"\"\"This function is a simplification of the partition algorithm using in the QuickSort, modified to handle only binary vectors. It's stable, inplace and has a linear execution time.\"\"\"\n",
    "    i = 0\n",
    "    for j in range(len(a)):\n",
    "        # Comparison of the element in the j-th position with a fixed value; 0.5 has been chosen, but any value in the range (0, 1) would have been correct.\n",
    "        if a[j] < 0.5:\n",
    "            # Smaller elements will be swapped with the greater highlighted by 'i'\n",
    "            a[i], a[j] = a[j], a[i]\n",
    "            i += 1\n",
    "            \n",
    "    return a\n",
    "\n",
    "\n",
    "# Testing the function 1000 times on random lists of binary values\n",
    "for _ in range(1000):\n",
    "    binary = [randint(0,1) for _ in range(20)]\n",
    "    assert binary_vector(binary) == sorted(binary), \"Fail!\"\n",
    "    \n",
    "print(\"Test passed!\")"
   ]
  },
  {
   "cell_type": "markdown",
   "metadata": {},
   "source": [
    "\n",
    "---\n",
    "### Exercise: QuickSort\n",
    "Below an implementation of QuickSort. \n",
    "\n",
    "In this exercise you have to:\n",
    "- Write detailed comments to describe crucial parts of the code below (to prove you have understood it)\n",
    "- Implement a random selection of the pivot element"
   ]
  },
  {
   "cell_type": "code",
   "execution_count": 78,
   "metadata": {
    "ExecuteTime": {
     "end_time": "2024-03-19T13:45:27.082211Z",
     "start_time": "2024-03-19T13:45:27.007500Z"
    }
   },
   "outputs": [
    {
     "name": "stdout",
     "output_type": "stream",
     "text": [
      "Test passed!\n"
     ]
    }
   ],
   "source": [
    "def partition(a: list, p: int, r: int):\n",
    "    \"\"\"Partition function used to compute the pivot as required by the QuickSort algorithm. Note that the possibility\n",
    "    to choose a different type of pivot - like the last one, or the median - has voluntarily not been implemented\n",
    "    into this function to preserve the theoretical running time of this specific algorithm. If a different type of pivot\n",
    "    is necessary please create another, analogue, function or modify the code directly here on\n",
    "    row 'x = randint(0, len(A))'.\n",
    "    IMPORTANT NOTE: even if they seem to be the same, the numpy implementation of randint excludes the last element \n",
    "    while the random implementation includes it. In this function the numpy implementation has been used, different \n",
    "    ones will lead to error in the results.\"\"\"\n",
    "    # x represents the pivot, in this implementation a random one is chosen (different approaches may be considered)\n",
    "    rand = randint(p, r+1)\n",
    "    x = a[rand]\n",
    "    a[r], a[rand] = a[rand], a[r]\n",
    "\n",
    "    i = p - 1\n",
    "    # Iterate over all the considered range [p, r), the purpose is to obtain an array with all the elements lower than\n",
    "    # pivot to its left while the greater stays on its right\n",
    "    for j in range(p, r):\n",
    "        # Comparison of the element in the j-th position with pivot\n",
    "        if a[j] <= x:\n",
    "            # Smaller elements will be swapped with the greater highlighted by 'i'\n",
    "            i += 1\n",
    "            a[i], a[j] = a[j], a[i]\n",
    "\n",
    "    # The highest number of the considered sub-array is now highlighted by 'i', so it's swapped with pivot\n",
    "    a[i+1], a[r] = a[r], a[i+1]\n",
    "\n",
    "    return i + 1\n",
    "\n",
    "\n",
    "def quick_sort(a: list, p: int, r: int):\n",
    "    \"\"\"QuickSort algorithm implementation.\n",
    "    Parameters:\n",
    "        a: unsorted list\n",
    "        p: integer representing the initial index of the sub-array considered. Note that it must be set to 0 when the\n",
    "        function is called by the user in the first step\n",
    "        r: integer representing the final index of the sub-array considered. It must be set to len(A) - 1 when the\n",
    "        function is called by the user in the first step.\n",
    "    Returns:\n",
    "        The sorted list\"\"\"\n",
    "    # This 'if' allow the algorithm to do recursive calls up until the sub-array considered contains only one value\n",
    "    if p < r:\n",
    "        # 'q' is here pointing the chosen pivot computed by the partition function, so that on its left-side\n",
    "        # there are all the smaller elements while on the right-side the bigger ones.\n",
    "        q = partition(a, p, r)\n",
    "        # Recursive call considering the left-side of pivot\n",
    "        quick_sort(a, p, q-1)\n",
    "        # Recursive call considering the right-side of pivot\n",
    "        quick_sort(a, q+1, r)\n",
    "\n",
    "    return a\n",
    "\n",
    "\n",
    "def test_sortedness_var(sorting_algo):\n",
    "    \"\"\"Similar to the previous one, just with some changes to adapt it to the quicksort and mergesort algorithms.\"\"\"\n",
    "    for _ in range(100):\n",
    "        l1 = [randint(0, 10000) for _ in range(randint(0, 100))]\n",
    "        l1_sorted = sorting_algo(l1, p=0, r=len(l1)-1)\n",
    "\n",
    "        assert l1_sorted == sorted(l1), \"FAIL!\"\n",
    "\n",
    "    print(\"Test passed!\")\n",
    "\n",
    "\n",
    "test_sortedness_var(quick_sort)"
   ]
  },
  {
   "cell_type": "markdown",
   "metadata": {},
   "source": [
    "----\n",
    "### Exercise: Merge Sort\n",
    "Complete the implementation of Merge Sort by implementing function ```merge()```."
   ]
  },
  {
   "cell_type": "code",
   "execution_count": 79,
   "metadata": {
    "ExecuteTime": {
     "end_time": "2024-03-19T13:45:28.698048Z",
     "start_time": "2024-03-19T13:45:28.643173Z"
    }
   },
   "outputs": [
    {
     "name": "stdout",
     "output_type": "stream",
     "text": [
      "Test passed!\n"
     ]
    }
   ],
   "source": [
    "def merge(a: list, p: int, q: int, r: int):\n",
    "    \"\"\"Function used by the MergeSort algorithm to merge two (sorted) arrays.\n",
    "    Parameters:\n",
    "        a: list (semi) sorted\n",
    "        p: integer representing the initial index of the sub-array considered\n",
    "        q: integer representing the middle point between p and r\n",
    "        r: integer representing the final index of the sub-array considered\n",
    "    Returns:\n",
    "        None. Each operation and data manipulation is made directly in the original list.\"\"\"\n",
    "    left = a[p:q+1]\n",
    "    right = a[q+1:r+1]\n",
    "    # Add sentinels at the end of the new lists, Numpy infinity has been used\n",
    "    left.append(inf)\n",
    "    right.append(inf)\n",
    "    i = 0\n",
    "    j = 0\n",
    "\n",
    "    for k in range(p, r+1):\n",
    "        if left[i] <= right[j]:\n",
    "            a[k] = left[i]\n",
    "            i += 1\n",
    "\n",
    "        else:\n",
    "            a[k] = right[j]\n",
    "            j += 1\n",
    "\n",
    "\n",
    "def merge_sort(a: list, p: int, r: int):\n",
    "    \"\"\"MergeSort algorithm implementation.\n",
    "    Parameters:\n",
    "        a: unsorted list\n",
    "        p: integer representing the initial index of the sub-array considered. Note that it must be set to 0 when the \n",
    "        function is called by the user in the first step\n",
    "        r: integer representing the final index of the sub-array considered. It must be set to len(A) - 1 when the \n",
    "        function is called by the user in the first step.\n",
    "    Returns:\n",
    "        The sorted list\"\"\"\n",
    "    if p < r:\n",
    "        q = floor((p + r) / 2)\n",
    "\n",
    "        merge_sort(a, p, q)\n",
    "        merge_sort(a, q+1, r)\n",
    "        merge(a, p, q, r)\n",
    "\n",
    "    return a\n",
    "\n",
    "# ASSESSING ALGORITHM CORRECTNESS\n",
    "test_sortedness_var(merge_sort)"
   ]
  },
  {
   "cell_type": "markdown",
   "metadata": {},
   "source": [
    "----\n",
    "# Lecture 3\n",
    "----\n",
    "### Exercise: Activity Selection Problem\n",
    "Activity selection problem is a problem in which a person has a list of works to do. \n",
    "\n",
    "Each of the activities has a starting time and ending time. \n",
    "\n",
    "We need to schedule the activities in such a way the person can complete a maximum number of activities. \n",
    "\n",
    "Since the timing of the activities  may overlap, so it might not be possible to complete all the activities, and thus we need to schedule the activities in such a way that the maximum number of activities can be finished."
   ]
  },
  {
   "cell_type": "code",
   "execution_count": 80,
   "metadata": {
    "ExecuteTime": {
     "end_time": "2024-03-19T13:45:30.371843Z",
     "start_time": "2024-03-19T13:45:30.359452Z"
    }
   },
   "outputs": [],
   "source": [
    "def activity_selection(l: list):\n",
    "    \"\"\"Activity selection problem; this  function solves this problem in nlog n time.\n",
    "    Parameters:\n",
    "        l: list in the form [(start1, end1), (start2, end2), (start3, end3)]\n",
    "    Returns:\n",
    "        List containing the choice of activities that optimize the selection problem.\"\"\"\n",
    "    l.sort(key=lambda x: x[1])\n",
    "    # The first element of the sorted list will be the first activity to be executed for sure\n",
    "    sol = [l[0]]\n",
    "    # Check all the other activities\n",
    "    for item in l[1:]:\n",
    "        # If the initial time of the considered activity is bigger or equal to the previous activity ending time\n",
    "        # (it's basically checking for non-overlapping) append the activity to the solution\n",
    "        if item[0] >= sol[-1][1]:\n",
    "            sol.append(item)\n",
    "\n",
    "    return sol"
   ]
  },
  {
   "cell_type": "code",
   "outputs": [
    {
     "name": "stdout",
     "output_type": "stream",
     "text": [
      "Tests passed!\n"
     ]
    }
   ],
   "source": [
    "L = [(0, 5), (1, 2), (2, 3), (3, 4)]\n",
    "\n",
    "assert activity_selection(L) == [(1, 2), (2, 3), (3, 4)], \"Fail!\"\n",
    "\n",
    "L = [(0, 4), (4, 6), (5, 6), (4, 5), (3, 5)]\n",
    "\n",
    "assert activity_selection(L) == [(0, 4), (4, 5), (5, 6)], \"Fail!\"\n",
    "\n",
    "L = [(1, 3), (1, 3), (5, 6), (1, 2)]\n",
    "\n",
    "assert activity_selection(L) == [(1, 2), (5, 6)], \"Fail!\"\n",
    "\n",
    "print(\"Tests passed!\")"
   ],
   "metadata": {
    "collapsed": false,
    "ExecuteTime": {
     "end_time": "2024-03-19T13:45:31.616295Z",
     "start_time": "2024-03-19T13:45:31.599607Z"
    }
   },
   "execution_count": 81
  },
  {
   "cell_type": "markdown",
   "metadata": {},
   "source": [
    "----\n",
    "### Exercise: Fractional Knapsack Problem\n",
    "\n",
    "Your goal: Write a function fractional_knapsack(L,W) which takes a list L of pairs (value, weight) and the capacity  𝑊  and returns maximum possible value we can obtain by selecting items."
   ]
  },
  {
   "cell_type": "code",
   "execution_count": 82,
   "metadata": {
    "ExecuteTime": {
     "end_time": "2024-03-19T13:45:33.457638Z",
     "start_time": "2024-03-19T13:45:33.429070Z"
    }
   },
   "outputs": [],
   "source": [
    "def fractional_knapsack(l: list, w: int = 50):\n",
    "    \"\"\"Fractional Knapsack problem.\n",
    "    Parameters:\n",
    "        l: list of pairs (value, weight)\n",
    "        w: Optional int (default 50)\n",
    "    Returns:\n",
    "        The maximum possible obtainable value by selecting items.\"\"\"\n",
    "    sol = 0\n",
    "    act_w = 0\n",
    "    l.sort(key=lambda x: x[0] / x[1], reverse=True)\n",
    "    for item in l:\n",
    "        if act_w + item[1] == w:\n",
    "            return sol + item[0]\n",
    "\n",
    "        elif act_w + item[1] > w:\n",
    "            return sol + item[0] * (w - act_w) / item[1]\n",
    "\n",
    "        else:\n",
    "            sol += item[0]\n",
    "            act_w += item[1]"
   ]
  },
  {
   "cell_type": "code",
   "outputs": [
    {
     "name": "stdout",
     "output_type": "stream",
     "text": [
      "Tests passed!\n"
     ]
    }
   ],
   "source": [
    "# Testing implementation\n",
    "\n",
    "L = [(60, 10), (100, 20), (120, 30)]\n",
    "\n",
    "assert fractional_knapsack(L, 50) == 240.0, \"Fail!\"\n",
    "\n",
    "L = [(30, 5), (40, 10), (45, 15), (77, 22), (90, 25)]\n",
    "\n",
    "assert fractional_knapsack(L, 60) == 230.0, \"Fail!\"\n",
    "\n",
    "assert fractional_knapsack(L, 15) == 70.0,  \"Fail!\"\n",
    "\n",
    "assert fractional_knapsack(L, 10) == 50.0,  \"Fail!\"\n",
    "\n",
    "print(\"Tests passed!\")"
   ],
   "metadata": {
    "collapsed": false,
    "ExecuteTime": {
     "end_time": "2024-03-19T13:45:34.604241Z",
     "start_time": "2024-03-19T13:45:34.589345Z"
    }
   },
   "execution_count": 83
  },
  {
   "cell_type": "markdown",
   "metadata": {},
   "source": [
    "----\n",
    "# Lecture 4\n",
    "\n",
    "----\n",
    "\n",
    "### Exercise: K-largest elements of a array\n",
    "\n",
    "We want to compute the K-largest elements of an array A. \n",
    "\n",
    "There are three possible algorithms to solve this problem:\n",
    "\n",
    "\n",
    "#### Algorithm 1: Sorting\n",
    "The easiest way to solve this is by sorting the array in decreasing order and reporting the first K elements. \n",
    "\n",
    "This algorithm costs $\\Theta(n\\log n)$ time. \n",
    "\n",
    "Implement this algorithm in a function ```k_largest_sort(A, K)```and test its correctness.\n",
    "\n",
    "#### Algorithm 2: QuickSelect\n",
    "Implement the QuickSelect algorithm and use it to find the K-largest element E in the array A. Then, scan A again \n",
    "to collect the K elements larger than or equal to E. Finally, sort the collected elements.\n",
    "\n",
    "This algorithm costs $\\Theta(n + K\\log K)$ time (in expectation). \n",
    "\n",
    "Implement this algorithm in a function ```k_largest_quickselect(A, K)```and test its correctness.\n",
    "\n",
    "\n",
    "#### Algorithm 3: Heap\n",
    "You have to implement the following faster algorithm as a function ```k_largest_heap(A,K)```.\n",
    "- Scan the array from left to right and keep a min-heap. The min-heap will contain at most K elements.\n",
    "- Insert the current element into the heap, if the heap has less than K elements or the current element is larger than the minimum in the heap. If the heap has more than K elements, remove the minimum. \n",
    "- Sort the collected elements.\n",
    "\n",
    "This algorithm runs in $\\Theta(n\\log K)$ time.\n",
    "\n",
    "Implement this algorithm in a function ```k_largest_heap(A, K)```and test its correctness."
   ]
  },
  {
   "cell_type": "code",
   "execution_count": 42,
   "metadata": {
    "ExecuteTime": {
     "end_time": "2024-03-19T08:54:58.766340Z",
     "start_time": "2024-03-19T08:54:58.749329Z"
    }
   },
   "outputs": [],
   "source": [
    "def k_largest_sort(a: list, k: int):\n",
    "    return sorted(a, reverse=True)[:k]"
   ]
  },
  {
   "cell_type": "code",
   "execution_count": 43,
   "metadata": {
    "ExecuteTime": {
     "end_time": "2024-03-19T08:55:00.139439Z",
     "start_time": "2024-03-19T08:55:00.122242Z"
    }
   },
   "outputs": [],
   "source": [
    "def k_largest_quick_select(a: list, p: int, r: int, k: int):\n",
    "    \"\"\"QuickSearch algorithm implementation.\n",
    "    Parameters:\n",
    "        a: unsorted list, each element must appear at most once\n",
    "        p: integer representing the initial index of the sub-array considered. Note that it must be set to 0 when the\n",
    "        function is called by the user in the first step\n",
    "        r: integer representing the final index of the sub-array considered. It must be set to len(A) - 1 when the\n",
    "        function is called by the user in the first step\n",
    "        k: integer representing the largest k-th element to find.\n",
    "    Returns:\n",
    "        Sorted list containing the k largest elements of the given list.\"\"\"\n",
    "    if p == r:\n",
    "        return sorted(a[p:])\n",
    "\n",
    "    q = partition(a, p, r)\n",
    "    i = r - q + 1\n",
    "    if k == i:\n",
    "        return sorted(a[q:])\n",
    "\n",
    "    elif k > i:\n",
    "        return k_largest_quick_select(a, p, q - 1, k - i)\n",
    "\n",
    "    else:\n",
    "        return k_largest_quick_select(a, q + 1, r, k)"
   ]
  },
  {
   "cell_type": "code",
   "execution_count": 110,
   "metadata": {
    "ExecuteTime": {
     "end_time": "2024-03-20T08:55:36.088254Z",
     "start_time": "2024-03-20T08:55:36.070697Z"
    }
   },
   "outputs": [],
   "source": [
    "def k_largest_heap(a: list, k: int):\n",
    "    \"\"\"This algorithm makes use of heap.\n",
    "    Parameters:\n",
    "        a: unsorted list\n",
    "        k: integer representing the largest k-th element to find.\n",
    "    Returns:\n",
    "        Sorted list containing the k largest elements of the given list.\"\"\"\n",
    "    min_heap = list()\n",
    "    for value in a:\n",
    "        if len(min_heap) < k:\n",
    "            heapq.heappush(min_heap, value)\n",
    "        \n",
    "        elif value > min_heap[0]:\n",
    "            heapq.heapreplace(min_heap, value)\n",
    "            \n",
    "    return sorted(min_heap)"
   ]
  },
  {
   "cell_type": "code",
   "outputs": [
    {
     "name": "stdout",
     "output_type": "stream",
     "text": [
      "Tests passed!\n"
     ]
    }
   ],
   "source": [
    "def get_random_array(n, b = 50):\n",
    "    return [randint(0, b) for _ in range(n)]\n",
    "\n",
    "\n",
    "for _ in range(1000):\n",
    "    arr = get_random_array(100, 10000)\n",
    "    assert sorted(k_largest_sort(arr, 10)) == sorted(arr)[-10:], \"FAIL!\"\n",
    "    \n",
    "    assert k_largest_quick_select(arr, 0, len(arr) - 1, 10) == sorted(arr)[-10:], \"FAIL!\"\n",
    "    \n",
    "    assert k_largest_heap(arr, 10) == sorted(arr)[-10:], \"FAIL!\"\n",
    "print(\"Tests passed!\")"
   ],
   "metadata": {
    "collapsed": false,
    "ExecuteTime": {
     "end_time": "2024-03-21T10:33:11.308869Z",
     "start_time": "2024-03-21T10:33:10.107838Z"
    }
   },
   "execution_count": 183
  },
  {
   "cell_type": "markdown",
   "metadata": {
    "slideshow": {
     "slide_type": "subslide"
    }
   },
   "source": [
    "---\n",
    "\n",
    "### Exercise: compute distinct elements\n",
    "You are given a list A of elements, and you want to obtain the list of distinct elements in A.\n",
    "\n",
    "There are two possible algorithms to do this:\n",
    "\n",
    "- Use ```list(set(A))```\n",
    "- Sort A and then scan. Implement this as a function ```distinct(A)``` \n",
    "\n",
    "Compare these two approaches by varying the size of the array and the number of distinct elements."
   ]
  },
  {
   "cell_type": "code",
   "execution_count": 98,
   "metadata": {
    "ExecuteTime": {
     "end_time": "2024-03-19T14:10:30.418909Z",
     "start_time": "2024-03-19T14:10:11.216424Z"
    }
   },
   "outputs": [
    {
     "name": "stdout",
     "output_type": "stream",
     "text": [
      "Test passed!\n",
      "1.38 ms ± 40.2 µs per loop (mean ± std. dev. of 7 runs, 1,000 loops each)\n",
      "8.44 ms ± 507 µs per loop (mean ± std. dev. of 7 runs, 100 loops each)\n"
     ]
    }
   ],
   "source": [
    "def distinct(a: list):\n",
    "    a.sort()\n",
    "    unique = [a[0]]\n",
    "    for i in a[1:]:\n",
    "        if i > unique[-1]:\n",
    "            unique.append(i)\n",
    "            \n",
    "    return unique\n",
    "\n",
    "\n",
    "def get_random_array(n, b = 50):\n",
    "    return [randint(0, b) for _ in range(n)]\n",
    "\n",
    "\n",
    "for _ in range(10):\n",
    "    # Check the correctness of the implemented function\n",
    "    arr = get_random_array(1000, 10)  # Create an array with lots of repetitions\n",
    "    assert distinct(arr) == sorted(list(set(arr))), \"Fail!\"\n",
    "print(\"Test passed!\")\n",
    "\n",
    "# Compare the implemented function 'distinct' with the builtin function 'list(set(a))'\n",
    "arr = get_random_array(100000, 10)  # Create a huge array with lots of repetitions\n",
    "\n",
    "%timeit list(set(arr))\n",
    "%timeit distinct(arr)"
   ]
  },
  {
   "cell_type": "markdown",
   "source": [
    "The previous results are expected. The `distinct(a)` running time is $O(n\\log n)+O(n)\\approx O(n\\log n)$ (sum between the running time of the `sort()` builtin function and the *for* cycle). The running time of `list(set(a))` is $O(n)+O(m)\\approx O(n)$, given that the function `set(a)` works using a hash table that has an expected average execution time of $O(n)$, and the conversion of a set to a list, considering $m$ distinct values in the set, is $O(m)$. Even considering the worst case scenario where $m=n$ the running time is still $O(n)$."
   ],
   "metadata": {
    "collapsed": false
   }
  },
  {
   "cell_type": "markdown",
   "metadata": {},
   "source": [
    "---\n",
    "\n",
    "### Exercise: Pareto frontier of a set of points in 2-D space (aka Skyline problem)\n",
    "We are given a set $S$ of $n$ 2D points.\n",
    "A point $(x,y)$ dominates a point $(x',y')$ iff $x'\\leq x$ and $y'\\leq y$. \n",
    "Our goal is to find the set $P$ of dominating points in $S$. \n",
    "This corresponds to find the Pareto frontier (or, equivalently, the skyline). \n",
    "\n",
    "The problem can be solved in $\\Theta(n\\log n)$ time.\n",
    "\n",
    "To find $P$ we need to sort points in $S$ by $x$ in descending order, \n",
    "and if $x$′s the same by $y$ in descending order. This takes $\\Theta(n\\log n)$ time. \n",
    "Then, we do the following.\n",
    "\n",
    "- Include first point in $P$ and remember this point as $T$. \n",
    "- Iterates through the point (let $C$ current point):\n",
    "* if $C$ is dominated by $T$, then skip $C$ and go to next point;\n",
    "* Otherwise, include $C$ in $P$ and set $T=C$.\n",
    "\n",
    "This step can be performed in linear time.\n",
    "\n",
    "Implement the function ```pareto_frontier(S)```, which returns the pareto frontier $P$ of the points in $S$.\n"
   ]
  },
  {
   "cell_type": "code",
   "execution_count": 107,
   "metadata": {
    "ExecuteTime": {
     "end_time": "2024-03-19T16:18:37.885703Z",
     "start_time": "2024-03-19T16:18:37.868671Z"
    }
   },
   "outputs": [
    {
     "name": "stdout",
     "output_type": "stream",
     "text": [
      "Tests passed!\n"
     ]
    }
   ],
   "source": [
    "def pareto_frontier(s: list):\n",
    "    \"\"\"The functioning of this function is clearly explained in the text above.\"\"\"\n",
    "    s_sorted = sorted(s, reverse=True)\n",
    "    t = s_sorted[0]\n",
    "    p = [t]\n",
    "    for c in s_sorted[1:]:\n",
    "        if c[0] <= t[0] and c[1] <= t[1]:\n",
    "            pass\n",
    "\n",
    "        else:\n",
    "            p.append(c)\n",
    "            t = c\n",
    "\n",
    "    return p\n",
    "\n",
    "\n",
    "S = [(6, 7.5), (7, 8), (8, 7), (2, 9), (3, 9.5), (1, 10), (4, 9), (5, 8)]\n",
    "assert sorted(pareto_frontier(S)) == [(1, 10), (3, 9.5), (4, 9), (7, 8), (8, 7)], \"Fail!\"\n",
    "\n",
    "# This second test check the correctness of the case with x = x_prime \n",
    "S = [(6, 7.5), (7, 8), (7, 7), (2, 9), (3, 9.5), (1, 10), (1, 9), (5, 8)]\n",
    "assert sorted(pareto_frontier(S)) == [(1, 10), (3, 9.5), (7, 8)], \"Fail!\"\n",
    "print(\"Tests passed!\")"
   ]
  },
  {
   "cell_type": "markdown",
   "metadata": {},
   "source": [
    "----\n",
    "# Lecture 5\n",
    "----\n",
    "\n",
    "### Exercise: Open Addressing with linear probing\n",
    "Complete the implementation below by implementing ```Lookup```and ```Delete```."
   ]
  },
  {
   "cell_type": "code",
   "execution_count": 215,
   "metadata": {
    "ExecuteTime": {
     "end_time": "2024-03-21T14:28:41.624509Z",
     "start_time": "2024-03-21T14:28:41.382507Z"
    }
   },
   "outputs": [
    {
     "name": "stdout",
     "output_type": "stream",
     "text": [
      "Tests passed!\n"
     ]
    }
   ],
   "source": [
    "class LinearProbingSet:\n",
    "    def __init__(self, size: int):\n",
    "\n",
    "        self.T = [None]*size\n",
    "        self.prime = 993319\n",
    "        self.a = randint(2, self.prime)  # IMPORT THE numpy.random.randint FUNCTION, NOT THE random.randint !!!\n",
    "        self.b = randint(2, self.prime)  # IMPORT THE numpy.random.randint FUNCTION, NOT THE random.randint !!!\n",
    "        self.__n_keys = 0\n",
    "\n",
    "    def insert(self, key: int):\n",
    "        if self.lookup(key):\n",
    "            return\n",
    "        \n",
    "        h = self.hash(key)\n",
    "        \n",
    "        while self.T[h] is not None and self.T[h] != 'D':\n",
    "            h += 1\n",
    "            if h == len(self.T):\n",
    "                h = 0\n",
    "        self.T[h] = key\n",
    "        self.__n_keys += 1\n",
    "\n",
    "    def lookup(self, key: int):\n",
    "        \"\"\"Return True if key is in the set, False otherwise.\"\"\"\n",
    "        # First we compute h\n",
    "        h = self.hash(key)\n",
    "        # To avoid the possibility of an infinite loop, in case a non-existing key is searched in a full hash table, a set of visited h values is kept, so after a whole run over the table, if the key is not found the function return False.\n",
    "        visited = set()\n",
    "        \n",
    "        # Run over T starting from the slot h and going on until an empty slot or the actual value is found\n",
    "        while self.T[h] is not None and h not in visited:\n",
    "            if self.T[h] == key:\n",
    "                return True\n",
    "\n",
    "            h += 1\n",
    "            \n",
    "            if h == len(self.T):\n",
    "                h = 0\n",
    "                \n",
    "        return False\n",
    "\n",
    "    def delete(self, key: int):\n",
    "        if self.lookup(key):\n",
    "\n",
    "            h = self.hash(key)\n",
    "            \n",
    "            while self.T[h] is not None:\n",
    "                if self.T[h] == key:\n",
    "                    self.T[h] = 'D'\n",
    "                    self.__n_keys -= 1\n",
    "                    \n",
    "                    return\n",
    "                \n",
    "                h += 1\n",
    "                if h == len(self.T):\n",
    "                    h = 0\n",
    "                    \n",
    "        raise KeyError(f\"Key {key} doesn't exist\")\n",
    "\n",
    "    def hash(self, key: int):\n",
    "        return ((self.a * key + self.b) % self.prime) % len(self.T)\n",
    "    \n",
    "    @property\n",
    "    def len(self):\n",
    "        return self.__n_keys\n",
    "    \n",
    "# Testing implementation\n",
    "\n",
    "number = 10000\n",
    "\n",
    "array = get_random_array(number, number+1)\n",
    "\n",
    "queries = get_random_array(number, number+1)\n",
    "\n",
    "lp_set = LinearProbingSet(2*number)\n",
    "std_set = set()\n",
    "\n",
    "for k in array:\n",
    "    lp_set.insert(k)\n",
    "    std_set.add(k)\n",
    "\n",
    "assert len(std_set) == lp_set.len, \"Fail len!\"\n",
    "\n",
    "for k in array:\n",
    "    assert lp_set.lookup(k) == True, \"Lookup fail arr\"\n",
    "\n",
    "for k in queries:\n",
    "    assert lp_set.lookup(k) == (k in std_set), \"Lookup fail queries\"\n",
    "\n",
    "for k in array[:300]:\n",
    "    try:\n",
    "        lp_set.delete(k)\n",
    "    \n",
    "    except KeyError:\n",
    "        pass\n",
    "    \n",
    "    try:\n",
    "        std_set.remove(k)\n",
    "        \n",
    "    except KeyError:\n",
    "        pass\n",
    "    assert lp_set.lookup(k) == (k in std_set), \"Lookup fail delete\"\n",
    "\n",
    "print(\"Tests passed!\")"
   ]
  },
  {
   "cell_type": "markdown",
   "metadata": {},
   "source": [
    "----\n",
    "### Exercise: Hashing with Chains\n",
    "Complete the implementation below by implementing ```Lookup``` and ```Delete```."
   ]
  },
  {
   "cell_type": "code",
   "execution_count": 216,
   "metadata": {
    "ExecuteTime": {
     "end_time": "2024-03-21T14:28:43.057946Z",
     "start_time": "2024-03-21T14:28:42.846384Z"
    }
   },
   "outputs": [
    {
     "name": "stdout",
     "output_type": "stream",
     "text": [
      "Tests passed!\n"
     ]
    }
   ],
   "source": [
    "class ChainingSet:\n",
    "    def __init__(self, size: int):\n",
    "\n",
    "        self.T = []\n",
    "        for _ in range(size):\n",
    "            self.T.append([])\n",
    "        '''\n",
    "        self.T = [ [] for _ in range(size)]\n",
    "        why not self.T = [ [] ] * size ?\n",
    "        A simple test can answer this question, let's try it:\n",
    "        list1 = [ [] for _ in range(size)]\n",
    "        list2 = [ [] ] * size\n",
    "        \n",
    "        We know that each list has a unique id, so if two lists have the same id it means that they refer to the same one and this may lead to some collision problems.\n",
    "        \n",
    "        id(list1[0]) == id(list1[1]) ===>  False\n",
    "        id(list2[0]) == id(list2[1]) ===>  True\n",
    "        \n",
    "        That's why we opted for the first method, to have different, so unique, lists.\n",
    "        '''\n",
    "\n",
    "        self.prime = 993319\n",
    "        self.a = randint(2, self.prime)  # IMPORT THE numpy.random.randint FUNCTION, NOT THE random.randint !!!\n",
    "        self.b = randint(2, self.prime)  # IMPORT THE numpy.random.randint FUNCTION, NOT THE random.randint !!!\n",
    "        self.__n_keys = 0\n",
    "\n",
    "    def insert(self, key: int):\n",
    "        if self.lookup(key):\n",
    "            return\n",
    "\n",
    "        h = self.hash(key)\n",
    "        self.T[h].append(key)\n",
    "        self.__n_keys += 1\n",
    "\n",
    "    def lookup(self, key: int):\n",
    "        \"\"\"Return True if key is in the set, False otherwise.\"\"\"\n",
    "        h = self.hash(key)\n",
    "        \n",
    "        return k in self.T[h]\n",
    "\n",
    "    def delete(self, key: int):\n",
    "        if self.lookup(key):\n",
    "            h = self.hash(key)\n",
    "            self.T[h].remove(key)\n",
    "        \n",
    "        raise KeyError(f\"Key {key} doesn't exist\")\n",
    "\n",
    "    def hash(self, key: int):\n",
    "        return ((self.a * key + self.b) % self.prime) % len(self.T)\n",
    "    \n",
    "    @property\n",
    "    def len(self):\n",
    "        return self.__n_keys\n",
    "\n",
    "\n",
    "# Testing implementation\n",
    "\n",
    "number = 10000\n",
    "\n",
    "array = get_random_array(number, number+1)\n",
    "\n",
    "queries = get_random_array(number, number+1)\n",
    "\n",
    "c_set = ChainingSet(2*number)\n",
    "std_set = set()\n",
    "\n",
    "for k in array:\n",
    "    c_set.insert(k)\n",
    "    std_set.add(k)\n",
    "\n",
    "assert len(std_set) == c_set.len, \"Fail len!\"\n",
    "\n",
    "for k in array:\n",
    "    assert c_set.lookup(k) == True, \"Lookup fail a\"\n",
    "\n",
    "for k in queries:\n",
    "    assert c_set.lookup(k) == (k in std_set), \"Lookup fail queries\"\n",
    "\n",
    "for k in array[:300]:\n",
    "    try:\n",
    "        c_set.delete(k)\n",
    "        \n",
    "    except KeyError:\n",
    "        pass\n",
    "    \n",
    "    try:\n",
    "        std_set.remove(k)\n",
    "        \n",
    "    except KeyError:\n",
    "        pass\n",
    "\n",
    "    assert c_set.lookup(k) == (k in std_set), \"Lookup fail delete\"\n",
    "    \n",
    "print(\"Tests passed!\")"
   ]
  },
  {
   "cell_type": "markdown",
   "metadata": {},
   "source": [
    "----\n",
    "\n",
    "### Exercise: Dictionary\n",
    "Modify the previous code (i.e., Hashing with Chains) to implement a dictionary, i.e., store a value together with each key. \n",
    "You need to implement methods:\n",
    "- ```Insert(key, value)```: insert the key with its value. If the key was already present, change its value;\n",
    "- ```Delete(key)```: remove the key;\n",
    "- ```Lookup(key)```: return True if the key is present, False otherwise;\n",
    "- ```Value(key)```: return the value associated with the key. It returns None, if the key is not present.\n",
    "\n",
    "I suggest to store pairs (key, value) within the lists."
   ]
  },
  {
   "cell_type": "code",
   "execution_count": 218,
   "metadata": {
    "ExecuteTime": {
     "end_time": "2024-03-21T14:30:48.606641Z",
     "start_time": "2024-03-21T14:30:48.584084Z"
    }
   },
   "outputs": [],
   "source": [
    "class ChainingDictionary:\n",
    "    def __init__(self, size: int):\n",
    "\n",
    "        self.T = []\n",
    "        for _ in range(size):\n",
    "            self.T.append([])\n",
    "\n",
    "        self.prime = 993319\n",
    "        self.a = randint(2, self.prime)  # IMPORT THE numpy.random.randint FUNCTION, NOT THE random.randint !!!\n",
    "        self.b = randint(2, self.prime)  # IMPORT THE numpy.random.randint FUNCTION, NOT THE random.randint !!!\n",
    "        self.__n_keys = 0\n",
    "\n",
    "    def insert(self, key: int, value: int | float | str):\n",
    "        # If the key is present its value will be changed with the new one\n",
    "        if self.lookup(key):\n",
    "            # Compute h\n",
    "            h = self.hash(key)\n",
    "            # Run over the list of (key, value) pairs in position h, to find the one with the searched key\n",
    "            for idx, (K, val) in enumerate(self.T[h]):\n",
    "                if K == key:\n",
    "                    self.T[h][idx] = (K, val)\n",
    "                    \n",
    "                    # Leave the insert function when the key is found and the value correctly substituted\n",
    "                    return\n",
    "        \n",
    "        # If the key is not present a new (key, value) pair is created\n",
    "        else:\n",
    "            h = self.hash(key)\n",
    "            self.T[h].append((key, value))\n",
    "            # Only in case of a new pair the number of keys increase while in substitution the number remains the same\n",
    "            self.__n_keys += 1\n",
    "\n",
    "    def lookup(self, key: int):\n",
    "        \"\"\"Return True if key is in the set, False otherwise.\"\"\"\n",
    "        h = self.hash(key)\n",
    "        for (K, val) in self.T[h]:\n",
    "            if K == key:\n",
    "                return True\n",
    "            \n",
    "        return False\n",
    "\n",
    "    def delete(self, key: int):\n",
    "        if self.lookup(key):\n",
    "            h = self.hash(key)\n",
    "            for (K, val) in self.T[h]:\n",
    "                if K == key:\n",
    "                    self.T[h].remove((K, val))\n",
    "                    self.__n_keys -= 1\n",
    "\n",
    "        raise KeyError(f\"Key {key} doesn't exist\")\n",
    "    \n",
    "    def value(self, key: int):\n",
    "        if self.lookup(key):\n",
    "            h = self.hash(key)\n",
    "            for (K, val) in self.T[h]:\n",
    "                if K == key:\n",
    "                    return val\n",
    "            \n",
    "        return None\n",
    "\n",
    "    def hash(self, key: int):\n",
    "        return ((self.a * key + self.b) % self.prime) % len(self.T)\n",
    "    \n",
    "    @property\n",
    "    def len(self):\n",
    "        return self.__n_keys"
   ]
  },
  {
   "cell_type": "code",
   "outputs": [
    {
     "name": "stdout",
     "output_type": "stream",
     "text": [
      "Tests passed!\n"
     ]
    }
   ],
   "source": [
    "# Testing implementation\n",
    "# The test suite is the same used for the previous exercises but slightly modified to better adapt to the different structure of data (key-value pair tuples instead of keys)\n",
    "\n",
    "def get_random_tuple(n, b = 50):\n",
    "    return [(randint(0, b), randint(0, b)) for _ in range(n)]\n",
    "\n",
    "number = 10000\n",
    "\n",
    "array = get_random_tuple(number, number+1)\n",
    "\n",
    "queries = get_random_tuple(number, number+1)\n",
    "\n",
    "c_dict = ChainingDictionary(2*number)\n",
    "std_dict = dict()\n",
    "\n",
    "for (k, v) in array:\n",
    "    c_dict.insert(k, v)\n",
    "    std_dict[k] = v\n",
    "\n",
    "assert len(std_dict.keys()) == c_dict.len, \"Fail len!\"\n",
    "\n",
    "for (k, v) in array:\n",
    "    assert c_dict.lookup(k) == True, \"Lookup fail a\"\n",
    "\n",
    "for (k, v) in queries:\n",
    "    assert c_dict.lookup(k) == (k in std_dict.keys()), \"Lookup fail queries\"\n",
    "\n",
    "for (k, v) in array[:300]:\n",
    "    try:\n",
    "        c_dict.delete(k)\n",
    "\n",
    "    except KeyError:\n",
    "        pass\n",
    "\n",
    "    try:\n",
    "        std_dict.pop(k)\n",
    "\n",
    "    except KeyError:\n",
    "        pass\n",
    "\n",
    "    assert c_dict.lookup(k) == (k in std_dict.keys()), \"Lookup fail delete\"\n",
    "\n",
    "print(\"Tests passed!\")"
   ],
   "metadata": {
    "collapsed": false,
    "ExecuteTime": {
     "end_time": "2024-03-21T14:40:33.842658Z",
     "start_time": "2024-03-21T14:40:33.420621Z"
    }
   },
   "execution_count": 222
  },
  {
   "cell_type": "markdown",
   "metadata": {},
   "source": [
    "---\n",
    "# Lecture 6\n",
    "\n",
    "--- \n",
    "### Exercise: Implements your own GroupBy\n",
    "\n",
    "In the rest of your life you are going to use GroupBy implemented in some library, but in this exercise we will implement our own simplified version. \n",
    "\n",
    "You are give a list of tuples, all with the same number of components. In our simplified implementation  of a pandas' DataFrame each tuple in the list is a row of the DataFrame. Each component of a tuple is a value of a column.\n",
    "\n",
    "#### Part I\n",
    "Our first goal is to implement an index to efficiently group by one of the component in the list. \n",
    "\n",
    "We'd like to implement a function ```groupBy(L, id)``` which takes the list of tuples ```L``` and the ```id``` of the component and returns a dictionary. The dictionary is an index very similar to what you implemented for a search engine. \n",
    "We have a key for each distinct value in column ```id```. The value of a certain key ```k``` is the list of indexes of all the tuple having value ```k``` in the column ```id```.\n",
    "This means that, if index ```p``` is in the list of key ```k```, then ```L[p][id] = k```.\n",
    "\n",
    "For example, if we have tuples \n",
    "\n",
    "|   | \n",
    "|:--|\n",
    "(1, 5, 11)\n",
    "(0, 4, 1000)\n",
    "(1, 2, 11)\n",
    "(1, 4, 66) \n",
    "(0, 3, 99)\n",
    "\n",
    "The groupBy with id=0 will group by first column.\n",
    "\n",
    "The index is\n",
    "\n",
    "|   | \n",
    "|:--| \n",
    "0: [1, 4]\n",
    "1: [0, 2, 3]\n",
    " \n",
    "#### Part II\n",
    "We'd like to implement a function ```max_groupBy(index, L)``` which takes the index built in previous part on list ```L``` and returns a dictionary. \n",
    "We have a key for each distinct value in column ```id```. The value of a certain key ```k``` is the list. The list has an element for each column: the maximum value in that column for each tuple having value ```k``` in the column ```id```. This, of course, must be implemented by using the index.\n",
    "\n",
    "In the example before, we would obtain the dictionary\n",
    "\n",
    "|   | \n",
    "|:--| \n",
    "0: [0, 4, 1000]\n",
    "1: [1, 5, 66]\n",
    " \n"
   ]
  },
  {
   "cell_type": "code",
   "execution_count": 160,
   "metadata": {
    "ExecuteTime": {
     "end_time": "2024-03-20T18:10:02.168394Z",
     "start_time": "2024-03-20T18:10:02.140161Z"
    }
   },
   "outputs": [
    {
     "name": "stdout",
     "output_type": "stream",
     "text": [
      "Test passed!\n"
     ]
    }
   ],
   "source": [
    "def group_by(l: list, idx: int):\n",
    "    # Create an empty dictionary\n",
    "    index = dict()\n",
    "    \n",
    "    # Enumerate the list to have both the tuples and their indexes\n",
    "    for i, j in enumerate(l):\n",
    "        k = j[idx]\n",
    "        # Check for the existence of the key, if it doesn't exist, create it with an empty list as value\n",
    "        if k not in index.keys():\n",
    "            index[k] = []\n",
    "        \n",
    "        # Add the index of the tuple in list under the proper key\n",
    "        index[k].append(i)\n",
    "    \n",
    "    # Return the dictionary just created\n",
    "    return index\n",
    "\n",
    "\n",
    "def max_group_by(index: dict, l: list):\n",
    "    # Create an empty dictionary\n",
    "    max_dict = dict()\n",
    "    \n",
    "    # Run over the key-value pairs in the given index\n",
    "    for k, values in index.items():\n",
    "        # The keys of the new dictionary will be the same of the index, so they're created with empty lists as values\n",
    "        max_dict[k] = list()\n",
    "        # Run over the columns and find the biggest value between the considered tuples\n",
    "        for col in range(len(l[0])):\n",
    "            # Append that value to the proper list\n",
    "            max_dict[k].append(max([l[row][col] for row in values]))\n",
    "    \n",
    "    # Return the dictionary just created\n",
    "    return max_dict\n",
    "\n",
    "# Testing implementation\n",
    "L = [(1, 5, 11), (0, 4, 1000), (1, 2, 11), (1, 4, 66), (0, 3, 99)]\n",
    "gb_index = group_by(L, 0)\n",
    "assert group_by(L, 0) == {0:[1, 4], 1:[0, 2, 3]}, \"Fail!\"\n",
    "assert max_group_by(gb_index, L) == {0:[0, 4, 1000], 1: [1, 5, 66]}, \"Fail!\"\n",
    "print(\"Test passed!\")"
   ]
  },
  {
   "cell_type": "markdown",
   "metadata": {},
   "source": [
    "---\n",
    "# Lecture 7\n",
    "---\n",
    "### Exercise: Static sorted map\n",
    "Complete and test the implementation below. You have to use binary search to solve predecessor and successor queries on a sorted array."
   ]
  },
  {
   "cell_type": "code",
   "execution_count": 137,
   "metadata": {
    "ExecuteTime": {
     "end_time": "2024-03-20T10:33:59.171064Z",
     "start_time": "2024-03-20T10:33:59.142745Z"
    }
   },
   "outputs": [
    {
     "name": "stdout",
     "output_type": "stream",
     "text": [
      "Tests passed!\n"
     ]
    }
   ],
   "source": [
    "class StaticSortedMap:\n",
    "    def __init__(self, a: list): # assume A is already sorted\n",
    "        self.sorted_map = a[:] # copy input array\n",
    "\n",
    "    def min(self):\n",
    "        return self.sorted_map[0]\n",
    "\n",
    "    def max(self):\n",
    "        return self.sorted_map[-1]\n",
    "\n",
    "    def search(self, key: int): ## in our pseudocode BinarySearch(A, s, e, key)\n",
    "        def __binary_search(p: int, e: int, key):\n",
    "            if p <= e:\n",
    "                q = ceil((p + e) / 2)\n",
    "                if self.sorted_map[q] == key:\n",
    "                    return True, q\n",
    "            \n",
    "                elif self.sorted_map[q] < key:\n",
    "                    return __binary_search(q+1, e, key)\n",
    "                    \n",
    "                else:\n",
    "                    return __binary_search(p, q-1, key)\n",
    "                    \n",
    "            else:\n",
    "                if key < self.sorted_map[p]:\n",
    "                    return False, p\n",
    "                \n",
    "                else:\n",
    "                    return False, p+1\n",
    "        return __binary_search(0, len(self.sorted_map)-1, key)\n",
    "\n",
    "    def predecessor(self, key):\n",
    "        exist, position = self.search(key)\n",
    "        if exist:\n",
    "            if position != 0:\n",
    "                return position - 1, self.sorted_map[position - 1]\n",
    "            \n",
    "            else:\n",
    "                return None\n",
    "        \n",
    "        else:\n",
    "            raise KeyError(f\"Key {key} doesn't exist!\")\n",
    "\n",
    "    def successor(self, key):\n",
    "        exist, position = self.search(key)\n",
    "        if exist:\n",
    "            if position != len(self.sorted_map) - 1:\n",
    "                return position + 1, self.sorted_map[position + 1]\n",
    "            \n",
    "            else:\n",
    "                return None\n",
    "            \n",
    "        else:\n",
    "            raise KeyError(f\"Key {key} doesn't exist!\")\n",
    "        \n",
    "        \n",
    "# Testing implementation\n",
    "L = [10, 15, 20, 27, 45, 60, 70, 90, 100]\n",
    "ssm = StaticSortedMap(L)\n",
    "\n",
    "assert ssm.search(10) == (True, 0), \"Fail!\"\n",
    "assert ssm.search(28) == (False, 4), \"Fail!\"\n",
    "assert ssm.predecessor(15)[1] == 10, \"Fail!\"\n",
    "assert ssm.successor(27)[1] == 45, \"Fail!\"\n",
    "assert ssm.min() == 10, \"Fail!\"\n",
    "assert ssm.max() == 100, \"Fail!\"\n",
    "print(\"Tests passed!\")\n"
   ]
  },
  {
   "cell_type": "markdown",
   "metadata": {},
   "source": [
    "----\n",
    "### Exercise: Binary Search Tree\n",
    "Extend the previous implementation of Binary Search Trees to support **search(x)** operation. Test your implementation.\n",
    "#### Optional exercises\n",
    "Note that also the operations delete(x), min, max, predecessor(x) and successor(x) have been implemented."
   ]
  },
  {
   "cell_type": "code",
   "execution_count": 147,
   "metadata": {
    "ExecuteTime": {
     "end_time": "2024-03-20T14:57:33.633052Z",
     "start_time": "2024-03-20T14:57:33.614845Z"
    }
   },
   "outputs": [],
   "source": [
    "class BinarySearchTree:\n",
    "    class __Node:\n",
    "        def __init__(self, val, left=None, right=None):\n",
    "            \"\"\"This is a Node class that is internal to the BinarySearchTree class\"\"\"\n",
    "            self.__val = val\n",
    "            self.__left = left\n",
    "            self.__right = right\n",
    "\n",
    "        @property\n",
    "        def get_val(self):\n",
    "            return self.__val\n",
    "\n",
    "        def set_val(self, new_val):\n",
    "            self.__val = new_val\n",
    "\n",
    "        @property\n",
    "        def get_left(self):\n",
    "            return self.__left\n",
    "\n",
    "        @property\n",
    "        def get_right(self):\n",
    "            return self.__right\n",
    "\n",
    "        def set_left(self, new_left):\n",
    "            self.__left = new_left\n",
    "\n",
    "        def set_right(self, new_right):\n",
    "            self.__right = new_right\n",
    "\n",
    "        def __iter__(self):\n",
    "            \"\"\"This method deserves a little explanation. It does an inorder traversal of the nodes of the tree\n",
    "            yielding all the values. In this way, we get the values in ascending order.\"\"\"\n",
    "            if self.__left is not None:\n",
    "                for elem in self.__left:\n",
    "                    yield elem\n",
    "            yield self.__val\n",
    "            if self.__right is not None:\n",
    "                for elem in self.__right:\n",
    "                    yield elem\n",
    "\n",
    "    def __init__(self):\n",
    "        self.root = None\n",
    "\n",
    "    def insert(self, value):\n",
    "        def __insert(root, val):\n",
    "            if root is None:\n",
    "                # A new node is returned if the tree is empty\n",
    "                return BinarySearchTree.__Node(val)\n",
    "\n",
    "            if val < root.get_val:\n",
    "                root.set_left(__insert(root.get_left, val))\n",
    "\n",
    "            else:\n",
    "                root.set_right(__insert(root.get_right, val))\n",
    "\n",
    "            return root\n",
    "\n",
    "        self.root = __insert(self.root, value)\n",
    "\n",
    "    def search(self, value):\n",
    "        def __search(root, val):\n",
    "            if root is None:\n",
    "                # If the tree is empty - also alter the leaves - False is returned\n",
    "                return False\n",
    "\n",
    "            # If the root is not empty, check all the possible cases (<, =, >)\n",
    "            if val == root.get_val:\n",
    "                return True\n",
    "\n",
    "            elif val > root.get_val:\n",
    "                return __search(root.get_right, val)\n",
    "\n",
    "            elif val < root.get_val:\n",
    "                return __search(root.get_left, val)\n",
    "\n",
    "        return __search(self.root, value)\n",
    "\n",
    "    def delete(self, value):\n",
    "        def __delete(root, val):\n",
    "            if root is None:\n",
    "                return root\n",
    "\n",
    "            # Recursively travel the tree to find the node with the value to be deleted\n",
    "            if root.get_val > val:\n",
    "                # Transverse left if the value to be deleted is smaller than the value of the current node\n",
    "                root.set_left(__delete(root.get_left, val))\n",
    "                return root\n",
    "\n",
    "            elif root.get_val < val:\n",
    "                # Transverse right if the value to be deleted is bigger than the value of the current node\n",
    "                root.set_right(__delete(root.get_right, val))\n",
    "                return root\n",
    "\n",
    "            # Once the node is found we first check if it has no children and reconnect the parent of the node\n",
    "            # with the non-empty child\n",
    "            if root.get_left is None:\n",
    "                return root.get_right\n",
    "\n",
    "            elif root.get_right is None:\n",
    "                return root.get_left\n",
    "\n",
    "            # If both children are non-empty we look for the successor (aka the smallest node in the right subtree\n",
    "            # of the node to be deleted) and replace teh value of the node to be deleted with the value of the successor\n",
    "            else:\n",
    "                successor_parent = root\n",
    "                # The following while loop finds the successor\n",
    "                successor = root.get_right\n",
    "\n",
    "                while successor.get_left is not None:\n",
    "                    successor_parent = successor\n",
    "                    successor = successor.get_left\n",
    "\n",
    "                if successor_parent != root:\n",
    "                    successor_parent.set_left(successor.get_right)\n",
    "\n",
    "                else:\n",
    "                    successor_parent.set_right(successor.get_right)\n",
    "\n",
    "                root.set_val(successor.get_val)\n",
    "\n",
    "                # The computed root is returned and will overwrite the old one\n",
    "                return root\n",
    "\n",
    "        self.root = __delete(self.root, value)\n",
    "\n",
    "    def inorder(self):\n",
    "        \"\"\"Utility function extracted from G4G, it allows to do inorder traversal of BST.\"\"\"\n",
    "        result = list()\n",
    "        def __inorder(root):\n",
    "            if root is not None:\n",
    "                __inorder(root.get_left)\n",
    "                result.append(root.get_val)\n",
    "                __inorder(root.get_right)\n",
    "\n",
    "        __inorder(self.root)\n",
    "        \n",
    "        return result\n",
    "\n",
    "    @property\n",
    "    def min(self):\n",
    "        \"\"\"Return the minimum element.\"\"\"\n",
    "        def __min(root):\n",
    "            while root.get_left is not None:\n",
    "                root = root.get_left\n",
    "\n",
    "            return root.get_val\n",
    "\n",
    "        return __min(self.root)\n",
    "\n",
    "    @property\n",
    "    def max(self):\n",
    "        \"\"\"Return the maximum element.\"\"\"\n",
    "        def __max(root):\n",
    "            while root.get_right is not None:\n",
    "                root = root.get_right\n",
    "\n",
    "            return root.get_val\n",
    "\n",
    "        return __max(self.root)"
   ]
  },
  {
   "cell_type": "code",
   "outputs": [
    {
     "name": "stdout",
     "output_type": "stream",
     "text": [
      "Tests passed!\n"
     ]
    }
   ],
   "source": [
    "# Testing implementation\n",
    "\n",
    "L = [50, 30, 20, 40, 70, 60, 80]\n",
    "\n",
    "bst = BinarySearchTree()\n",
    "for x in L:\n",
    "    bst.insert(x)\n",
    "\n",
    "# Testing the search method\n",
    "assert bst.search(20) is True, \"Fail!\"\n",
    "assert bst.search(22) is False, \"Fail!\"\n",
    "\n",
    "# Testing the min, max\n",
    "assert bst.min == 20, \"Fail!\"\n",
    "assert bst.max == 80, \"Fail!\"\n",
    "\n",
    "# Testing delete method\n",
    "bst.delete(20)\n",
    "assert bst.inorder() == [30, 40, 50, 60, 70, 80], \"Fail!\"\n",
    "bst.delete(50)\n",
    "assert bst.inorder() == [30, 40, 60, 70, 80], \"Fail!\"\n",
    "\n",
    "print(\"Tests passed!\")"
   ],
   "metadata": {
    "collapsed": false,
    "ExecuteTime": {
     "end_time": "2024-03-20T14:58:07.772911Z",
     "start_time": "2024-03-20T14:58:07.759759Z"
    }
   },
   "execution_count": 150
  },
  {
   "cell_type": "markdown",
   "metadata": {},
   "source": [
    "---\n",
    "# Lecture 8\n",
    "---\n",
    "### Exercise: Strongly Connected Components\n",
    "The goal of this exercise is to implement the following algorithm to compute the strongly connected components of a directed graph $G$. [See here](https://www.hackerearth.com/practice/algorithms/graphs/strongly-connected-components/tutorial/). \n",
    "\n",
    "In a directed graph a component is strongly connected if there is a directed path from any vertex to every other vertex of the component. What the problem asks is to partition the graph into maximal strongly connected components.\n",
    "\n",
    "NetworkX provides a method to compute the strongly connected components of a graph [here](https://networkx.github.io/documentation/stable/reference/algorithms/generated/networkx.algorithms.components.strongly_connected_components.html#networkx.algorithms.components.strongly_connected_components). \n",
    "\n",
    "Your goal is to implement the Kosaraju's Linear time algorithm to find Strongly Connected Component. \n",
    "The algorithm is described [here](https://www.hackerearth.com/practice/algorithms/graphs/strongly-connected-components/tutorial).\n",
    "\n",
    "It works in three steps. \n",
    "\n",
    "- Do a DFS on the original graph, keeping track of the DFS finish times of each node. This can be done with a stack, when some  finishes put the source vertex on the stack. This way node with the highest finishing time will be on top of the stack.\n",
    "- Reverse the original graph, i.e., if there is an edge $(u,v)$ in the original graph, add the edge $(v,u)$ in the reversed one.\n",
    "-  Do DFS on the reversed graph, with the source vertex as the vertex on top of the stack. When DFS finishes, all nodes visited will form one Strongly Connected Component. If any more nodes remain unvisited, this means there are more Strongly Connected Component's, so pop vertices from top of the stack until a valid unvisited node is found. This will have the highest finishing time of all currently unvisited nodes.\n",
    "\n",
    "Take a look at [DFS traversal documentation](https://networkx.github.io/documentation/stable/reference/algorithms/traversal.html#module-networkx.algorithms.traversal.depth_first_search).\n",
    "Note that the finishing time of a node can be inferred from its position in the DFS tree. "
   ]
  },
  {
   "cell_type": "code",
   "execution_count": null,
   "metadata": {},
   "outputs": [],
   "source": [
    "## Your implementation here!!!"
   ]
  }
 ],
 "metadata": {
  "kernelspec": {
   "display_name": "Python 3",
   "language": "python",
   "name": "python3"
  },
  "language_info": {
   "codemirror_mode": {
    "name": "ipython",
    "version": 3
   },
   "file_extension": ".py",
   "mimetype": "text/x-python",
   "name": "python",
   "nbconvert_exporter": "python",
   "pygments_lexer": "ipython3",
   "version": "3.8.5"
  }
 },
 "nbformat": 4,
 "nbformat_minor": 4
}
